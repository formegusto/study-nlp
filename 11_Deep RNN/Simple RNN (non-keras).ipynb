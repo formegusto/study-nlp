{
 "cells": [
  {
   "cell_type": "code",
   "execution_count": 8,
   "id": "c386c908",
   "metadata": {},
   "outputs": [
    {
     "name": "stdout",
     "output_type": "stream",
     "text": [
      "WARNING:tensorflow:From /Users/formegusto/opt/anaconda3/lib/python3.8/site-packages/tensorflow/python/compat/v2_compat.py:96: disable_resource_variables (from tensorflow.python.ops.variable_scope) is deprecated and will be removed in a future version.\n",
      "Instructions for updating:\n",
      "non-resource variables are not supported in the long term\n"
     ]
    }
   ],
   "source": [
    "import numpy as np\n",
    "import tensorflow.compat.v1 as tf\n",
    "tf.disable_v2_behavior()"
   ]
  },
  {
   "cell_type": "code",
   "execution_count": 15,
   "id": "d78f2be5",
   "metadata": {},
   "outputs": [],
   "source": [
    "n_inputs = 3\n",
    "n_neurons = 5\n",
    "\n",
    "X0 = tf.placeholder(tf.float32, [None, n_inputs])\n",
    "X1 = tf.placeholder(tf.float32, [None, n_inputs])\n",
    "\n",
    "Wx = tf.Variable(tf.random_normal(shape=[n_inputs, n_neurons], dtype=tf.float32))\n",
    "Wy = tf.Variable(tf.random_normal(shape=[n_neurons, n_neurons], dtype=tf.float32))\n",
    "b = tf.Variable(tf.zeros([1, n_neurons]), dtype=tf.float32)\n",
    "\n",
    "\n",
    "Y0 = tf.tanh(tf.matmul(X0, Wx) + b)\n",
    "Y1 = tf.tanh(tf.matmul(Y0, Wy) + tf.matmul(X1, Wx) + b)"
   ]
  },
  {
   "cell_type": "code",
   "execution_count": 21,
   "id": "32506984",
   "metadata": {},
   "outputs": [
    {
     "name": "stdout",
     "output_type": "stream",
     "text": [
      "[[ 0.9979179  -0.80881035 -0.72143656  0.993975   -0.13875717]\n",
      " [ 1.         -1.         -0.8413151   0.99995637  0.41715938]\n",
      " [ 1.         -1.         -0.9122346   0.9999998   0.773167  ]\n",
      " [-0.9576068  -1.          0.9999958   0.9672084   0.9929991 ]]\n",
      "[[ 1.         -1.          0.39691892  0.9988248   0.6770818 ]\n",
      " [ 1.         -1.         -0.6859136   0.9996748  -0.14399116]\n",
      " [ 1.         -1.          0.53284186  0.6794064   0.82717156]\n",
      " [ 0.99689233 -0.999951   -0.9854381   0.8307894   0.8773768 ]]\n"
     ]
    }
   ],
   "source": [
    "# t = 0\n",
    "X0_batch = np.array([[0,1,2],\n",
    "                    [3,4,5],\n",
    "                    [6,7,8],\n",
    "                    [9,0,1]])\n",
    "# t = 1\n",
    "X1_batch = np.array([[9,8,7],\n",
    "                    [3,4,5],\n",
    "                    [6,5,4],\n",
    "                    [3,2,1]])\n",
    "\n",
    "# Y0_val, Y1_val\n",
    "with tf.Session() as sess:\n",
    "    tf.global_variables_initializer().run()\n",
    "    Y0_val, Y1_val = sess.run([Y0, Y1], feed_dict={X0: X0_batch, X1: X1_batch})\n",
    "    \n",
    "print(Y0_val)\n",
    "print(Y1_val)"
   ]
  }
 ],
 "metadata": {
  "kernelspec": {
   "display_name": "Python 3",
   "language": "python",
   "name": "python3"
  },
  "language_info": {
   "codemirror_mode": {
    "name": "ipython",
    "version": 3
   },
   "file_extension": ".py",
   "mimetype": "text/x-python",
   "name": "python",
   "nbconvert_exporter": "python",
   "pygments_lexer": "ipython3",
   "version": "3.8.8"
  }
 },
 "nbformat": 4,
 "nbformat_minor": 5
}
