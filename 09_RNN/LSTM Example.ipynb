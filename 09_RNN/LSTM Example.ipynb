{
 "cells": [
  {
   "cell_type": "code",
   "execution_count": 1,
   "id": "0e3a852d",
   "metadata": {},
   "outputs": [],
   "source": [
    "import pandas as pd\n",
    "from string import punctuation\n",
    "from tensorflow.keras.preprocessing.text import Tokenizer\n",
    "from tensorflow.keras.preprocessing.sequence import pad_sequences\n",
    "import numpy as np\n",
    "from tensorflow.keras.utils import to_categorical"
   ]
  },
  {
   "cell_type": "code",
   "execution_count": 2,
   "id": "e2f79358",
   "metadata": {},
   "outputs": [
    {
     "data": {
      "text/html": [
       "<div>\n",
       "<style scoped>\n",
       "    .dataframe tbody tr th:only-of-type {\n",
       "        vertical-align: middle;\n",
       "    }\n",
       "\n",
       "    .dataframe tbody tr th {\n",
       "        vertical-align: top;\n",
       "    }\n",
       "\n",
       "    .dataframe thead th {\n",
       "        text-align: right;\n",
       "    }\n",
       "</style>\n",
       "<table border=\"1\" class=\"dataframe\">\n",
       "  <thead>\n",
       "    <tr style=\"text-align: right;\">\n",
       "      <th></th>\n",
       "      <th>articleID</th>\n",
       "      <th>articleWordCount</th>\n",
       "      <th>byline</th>\n",
       "      <th>documentType</th>\n",
       "      <th>headline</th>\n",
       "      <th>keywords</th>\n",
       "      <th>multimedia</th>\n",
       "      <th>newDesk</th>\n",
       "      <th>printPage</th>\n",
       "      <th>pubDate</th>\n",
       "      <th>sectionName</th>\n",
       "      <th>snippet</th>\n",
       "      <th>source</th>\n",
       "      <th>typeOfMaterial</th>\n",
       "      <th>webURL</th>\n",
       "    </tr>\n",
       "  </thead>\n",
       "  <tbody>\n",
       "    <tr>\n",
       "      <th>0</th>\n",
       "      <td>5adf6684068401528a2aa69b</td>\n",
       "      <td>781</td>\n",
       "      <td>By JOHN BRANCH</td>\n",
       "      <td>article</td>\n",
       "      <td>Former N.F.L. Cheerleaders’ Settlement Offer: ...</td>\n",
       "      <td>['Workplace Hazards and Violations', 'Football...</td>\n",
       "      <td>68</td>\n",
       "      <td>Sports</td>\n",
       "      <td>0</td>\n",
       "      <td>2018-04-24 17:16:49</td>\n",
       "      <td>Pro Football</td>\n",
       "      <td>“I understand that they could meet with us, pa...</td>\n",
       "      <td>The New York Times</td>\n",
       "      <td>News</td>\n",
       "      <td>https://www.nytimes.com/2018/04/24/sports/foot...</td>\n",
       "    </tr>\n",
       "    <tr>\n",
       "      <th>1</th>\n",
       "      <td>5adf653f068401528a2aa697</td>\n",
       "      <td>656</td>\n",
       "      <td>By LISA FRIEDMAN</td>\n",
       "      <td>article</td>\n",
       "      <td>E.P.A. to Unveil a New Rule. Its Effect: Less ...</td>\n",
       "      <td>['Environmental Protection Agency', 'Pruitt, S...</td>\n",
       "      <td>68</td>\n",
       "      <td>Climate</td>\n",
       "      <td>0</td>\n",
       "      <td>2018-04-24 17:11:21</td>\n",
       "      <td>Unknown</td>\n",
       "      <td>The agency plans to publish a new regulation T...</td>\n",
       "      <td>The New York Times</td>\n",
       "      <td>News</td>\n",
       "      <td>https://www.nytimes.com/2018/04/24/climate/epa...</td>\n",
       "    </tr>\n",
       "    <tr>\n",
       "      <th>2</th>\n",
       "      <td>5adf4626068401528a2aa628</td>\n",
       "      <td>2427</td>\n",
       "      <td>By PETE WELLS</td>\n",
       "      <td>article</td>\n",
       "      <td>The New Noma, Explained</td>\n",
       "      <td>['Restaurants', 'Noma (Copenhagen, Restaurant)...</td>\n",
       "      <td>66</td>\n",
       "      <td>Dining</td>\n",
       "      <td>0</td>\n",
       "      <td>2018-04-24 14:58:44</td>\n",
       "      <td>Unknown</td>\n",
       "      <td>What’s it like to eat at the second incarnatio...</td>\n",
       "      <td>The New York Times</td>\n",
       "      <td>News</td>\n",
       "      <td>https://www.nytimes.com/2018/04/24/dining/noma...</td>\n",
       "    </tr>\n",
       "    <tr>\n",
       "      <th>3</th>\n",
       "      <td>5adf40d2068401528a2aa619</td>\n",
       "      <td>626</td>\n",
       "      <td>By JULIE HIRSCHFELD DAVIS and PETER BAKER</td>\n",
       "      <td>article</td>\n",
       "      <td>Unknown</td>\n",
       "      <td>['Macron, Emmanuel (1977- )', 'Trump, Donald J...</td>\n",
       "      <td>68</td>\n",
       "      <td>Washington</td>\n",
       "      <td>0</td>\n",
       "      <td>2018-04-24 14:35:57</td>\n",
       "      <td>Europe</td>\n",
       "      <td>President Trump welcomed President Emmanuel Ma...</td>\n",
       "      <td>The New York Times</td>\n",
       "      <td>News</td>\n",
       "      <td>https://www.nytimes.com/2018/04/24/world/europ...</td>\n",
       "    </tr>\n",
       "    <tr>\n",
       "      <th>4</th>\n",
       "      <td>5adf3d64068401528a2aa60f</td>\n",
       "      <td>815</td>\n",
       "      <td>By IAN AUSTEN and DAN BILEFSKY</td>\n",
       "      <td>article</td>\n",
       "      <td>Unknown</td>\n",
       "      <td>['Toronto, Ontario, Attack (April, 2018)', 'Mu...</td>\n",
       "      <td>68</td>\n",
       "      <td>Foreign</td>\n",
       "      <td>0</td>\n",
       "      <td>2018-04-24 14:21:21</td>\n",
       "      <td>Canada</td>\n",
       "      <td>Alek Minassian, 25, a resident of Toronto’s Ri...</td>\n",
       "      <td>The New York Times</td>\n",
       "      <td>News</td>\n",
       "      <td>https://www.nytimes.com/2018/04/24/world/canad...</td>\n",
       "    </tr>\n",
       "  </tbody>\n",
       "</table>\n",
       "</div>"
      ],
      "text/plain": [
       "                  articleID  articleWordCount  \\\n",
       "0  5adf6684068401528a2aa69b               781   \n",
       "1  5adf653f068401528a2aa697               656   \n",
       "2  5adf4626068401528a2aa628              2427   \n",
       "3  5adf40d2068401528a2aa619               626   \n",
       "4  5adf3d64068401528a2aa60f               815   \n",
       "\n",
       "                                      byline documentType  \\\n",
       "0                             By JOHN BRANCH      article   \n",
       "1                           By LISA FRIEDMAN      article   \n",
       "2                              By PETE WELLS      article   \n",
       "3  By JULIE HIRSCHFELD DAVIS and PETER BAKER      article   \n",
       "4             By IAN AUSTEN and DAN BILEFSKY      article   \n",
       "\n",
       "                                            headline  \\\n",
       "0  Former N.F.L. Cheerleaders’ Settlement Offer: ...   \n",
       "1  E.P.A. to Unveil a New Rule. Its Effect: Less ...   \n",
       "2                            The New Noma, Explained   \n",
       "3                                            Unknown   \n",
       "4                                            Unknown   \n",
       "\n",
       "                                            keywords  multimedia     newDesk  \\\n",
       "0  ['Workplace Hazards and Violations', 'Football...          68      Sports   \n",
       "1  ['Environmental Protection Agency', 'Pruitt, S...          68     Climate   \n",
       "2  ['Restaurants', 'Noma (Copenhagen, Restaurant)...          66      Dining   \n",
       "3  ['Macron, Emmanuel (1977- )', 'Trump, Donald J...          68  Washington   \n",
       "4  ['Toronto, Ontario, Attack (April, 2018)', 'Mu...          68     Foreign   \n",
       "\n",
       "   printPage              pubDate   sectionName  \\\n",
       "0          0  2018-04-24 17:16:49  Pro Football   \n",
       "1          0  2018-04-24 17:11:21       Unknown   \n",
       "2          0  2018-04-24 14:58:44       Unknown   \n",
       "3          0  2018-04-24 14:35:57        Europe   \n",
       "4          0  2018-04-24 14:21:21        Canada   \n",
       "\n",
       "                                             snippet              source  \\\n",
       "0  “I understand that they could meet with us, pa...  The New York Times   \n",
       "1  The agency plans to publish a new regulation T...  The New York Times   \n",
       "2  What’s it like to eat at the second incarnatio...  The New York Times   \n",
       "3  President Trump welcomed President Emmanuel Ma...  The New York Times   \n",
       "4  Alek Minassian, 25, a resident of Toronto’s Ri...  The New York Times   \n",
       "\n",
       "  typeOfMaterial                                             webURL  \n",
       "0           News  https://www.nytimes.com/2018/04/24/sports/foot...  \n",
       "1           News  https://www.nytimes.com/2018/04/24/climate/epa...  \n",
       "2           News  https://www.nytimes.com/2018/04/24/dining/noma...  \n",
       "3           News  https://www.nytimes.com/2018/04/24/world/europ...  \n",
       "4           News  https://www.nytimes.com/2018/04/24/world/canad...  "
      ]
     },
     "execution_count": 2,
     "metadata": {},
     "output_type": "execute_result"
    }
   ],
   "source": [
    "df=pd.read_csv('data/ArticlesApril2018.csv')\n",
    "df.head()"
   ]
  },
  {
   "cell_type": "code",
   "execution_count": 3,
   "id": "f13f5aa6",
   "metadata": {},
   "outputs": [
    {
     "name": "stdout",
     "output_type": "stream",
     "text": [
      "열의 개수:  15\n",
      "Index(['articleID', 'articleWordCount', 'byline', 'documentType', 'headline',\n",
      "       'keywords', 'multimedia', 'newDesk', 'printPage', 'pubDate',\n",
      "       'sectionName', 'snippet', 'source', 'typeOfMaterial', 'webURL'],\n",
      "      dtype='object')\n"
     ]
    }
   ],
   "source": [
    "print('열의 개수: ',len(df.columns))\n",
    "print(df.columns)"
   ]
  },
  {
   "cell_type": "code",
   "execution_count": 5,
   "id": "a44c8efb",
   "metadata": {},
   "outputs": [
    {
     "data": {
      "text/plain": [
       "False"
      ]
     },
     "execution_count": 5,
     "metadata": {},
     "output_type": "execute_result"
    }
   ],
   "source": [
    "# 학습에 사용할 데이터\n",
    "# null 값이 존재하는지 확인\n",
    "df['headline'].isnull().values.any()"
   ]
  },
  {
   "cell_type": "code",
   "execution_count": 6,
   "id": "414955ad",
   "metadata": {},
   "outputs": [
    {
     "data": {
      "text/plain": [
       "['Former N.F.L. Cheerleaders’ Settlement Offer: $1 and a Meeting With Goodell',\n",
       " 'E.P.A. to Unveil a New Rule. Its Effect: Less Science in Policymaking.',\n",
       " 'The New Noma, Explained',\n",
       " 'Unknown',\n",
       " 'Unknown']"
      ]
     },
     "execution_count": 6,
     "metadata": {},
     "output_type": "execute_result"
    }
   ],
   "source": [
    "headline = [] # 리스트 선언\n",
    "headline.extend(list(df.headline.values)) # 헤드라인의 값들을 리스트로 저장\n",
    "headline[:5] # 상위 5개만 출력"
   ]
  },
  {
   "cell_type": "code",
   "execution_count": 7,
   "id": "b9422267",
   "metadata": {},
   "outputs": [
    {
     "name": "stdout",
     "output_type": "stream",
     "text": [
      "총 샘플의 개수 : 1324\n"
     ]
    }
   ],
   "source": [
    "print('총 샘플의 개수 : {}'.format(len(headline))) # 현재 샘플의 개수"
   ]
  },
  {
   "cell_type": "code",
   "execution_count": 8,
   "id": "a5b54a3c",
   "metadata": {},
   "outputs": [
    {
     "name": "stdout",
     "output_type": "stream",
     "text": [
      "노이즈값 제거 후 샘플의 개수 : 1214\n"
     ]
    }
   ],
   "source": [
    "headline = [n for n in headline if n != \"Unknown\"] # Unknown 값을 가진 샘플 제거\n",
    "print('노이즈값 제거 후 샘플의 개수 : {}'.format(len(headline))) # 제거 후 샘플의 개수"
   ]
  },
  {
   "cell_type": "code",
   "execution_count": 11,
   "id": "7fa0a0d1",
   "metadata": {},
   "outputs": [
    {
     "name": "stdout",
     "output_type": "stream",
     "text": [
      "!\"#$%&'()*+,-./:;<=>?@[\\]^_`{|}~\n"
     ]
    },
    {
     "data": {
      "text/plain": [
       "['former nfl cheerleaders settlement offer 1 and a meeting with goodell',\n",
       " 'epa to unveil a new rule its effect less science in policymaking',\n",
       " 'the new noma explained',\n",
       " 'how a bag of texas dirt  became a times tradition',\n",
       " 'is school a place for selfexpression']"
      ]
     },
     "execution_count": 11,
     "metadata": {},
     "output_type": "execute_result"
    }
   ],
   "source": [
    "print(punctuation)\n",
    "def repreprocessing(s):\n",
    "    s=s.encode(\"utf8\").decode(\"ascii\",'ignore')\n",
    "    return ''.join(c for c in s if c not in punctuation).lower() # 구두점 제거와 동시에 소문자화\n",
    "\n",
    "text = [repreprocessing(x) for x in headline]\n",
    "text[:5]"
   ]
  },
  {
   "cell_type": "code",
   "execution_count": 12,
   "id": "1d1d1b1b",
   "metadata": {},
   "outputs": [
    {
     "name": "stdout",
     "output_type": "stream",
     "text": [
      "단어 집합의 크기 : 3494\n"
     ]
    }
   ],
   "source": [
    "t = Tokenizer()\n",
    "t.fit_on_texts(text)\n",
    "vocab_size = len(t.word_index) + 1\n",
    "print('단어 집합의 크기 : %d' % vocab_size)"
   ]
  },
  {
   "cell_type": "code",
   "execution_count": 13,
   "id": "1cc20c1b",
   "metadata": {},
   "outputs": [
    {
     "data": {
      "text/plain": [
       "[[99, 269],\n",
       " [99, 269, 371],\n",
       " [99, 269, 371, 1115],\n",
       " [99, 269, 371, 1115, 582],\n",
       " [99, 269, 371, 1115, 582, 52],\n",
       " [99, 269, 371, 1115, 582, 52, 7],\n",
       " [99, 269, 371, 1115, 582, 52, 7, 2],\n",
       " [99, 269, 371, 1115, 582, 52, 7, 2, 372],\n",
       " [99, 269, 371, 1115, 582, 52, 7, 2, 372, 10],\n",
       " [99, 269, 371, 1115, 582, 52, 7, 2, 372, 10, 1116],\n",
       " [100, 3]]"
      ]
     },
     "execution_count": 13,
     "metadata": {},
     "output_type": "execute_result"
    }
   ],
   "source": [
    "sequences = list()\n",
    "\n",
    "for line in text: # 1,214 개의 샘플에 대해서 샘플을 1개씩 가져온다.\n",
    "    encoded = t.texts_to_sequences([line])[0] # 각 샘플에 대한 정수 인코딩\n",
    "    for i in range(1, len(encoded)):\n",
    "        sequence = encoded[:i+1]\n",
    "        sequences.append(sequence)\n",
    "\n",
    "sequences[:11] # 11개의 샘플 출력"
   ]
  },
  {
   "cell_type": "code",
   "execution_count": 14,
   "id": "af51d043",
   "metadata": {},
   "outputs": [
    {
     "name": "stdout",
     "output_type": "stream",
     "text": [
      "빈도수 상위 582번 단어 : offer\n"
     ]
    }
   ],
   "source": [
    "index_to_word={}\n",
    "for key, value in t.word_index.items(): # 인덱스를 단어로 바꾸기 위해 index_to_word를 생성\n",
    "    index_to_word[value] = key\n",
    "\n",
    "print('빈도수 상위 582번 단어 : {}'.format(index_to_word[582]))"
   ]
  },
  {
   "cell_type": "code",
   "execution_count": 15,
   "id": "8c0497a2",
   "metadata": {},
   "outputs": [
    {
     "name": "stdout",
     "output_type": "stream",
     "text": [
      "샘플의 최대 길이 : 24\n"
     ]
    }
   ],
   "source": [
    "max_len=max(len(l) for l in sequences)\n",
    "print('샘플의 최대 길이 : {}'.format(max_len))"
   ]
  },
  {
   "cell_type": "code",
   "execution_count": 16,
   "id": "eccbd3c6",
   "metadata": {},
   "outputs": [
    {
     "name": "stdout",
     "output_type": "stream",
     "text": [
      "[[   0    0    0    0    0    0    0    0    0    0    0    0    0    0\n",
      "     0    0    0    0    0    0    0    0   99  269]\n",
      " [   0    0    0    0    0    0    0    0    0    0    0    0    0    0\n",
      "     0    0    0    0    0    0    0   99  269  371]\n",
      " [   0    0    0    0    0    0    0    0    0    0    0    0    0    0\n",
      "     0    0    0    0    0    0   99  269  371 1115]]\n"
     ]
    }
   ],
   "source": [
    "sequences = pad_sequences(sequences, maxlen=max_len, padding='pre')\n",
    "print(sequences[:3])"
   ]
  },
  {
   "cell_type": "code",
   "execution_count": 17,
   "id": "5677b89e",
   "metadata": {},
   "outputs": [],
   "source": [
    "sequences = np.array(sequences)\n",
    "X = sequences[:,:-1]\n",
    "y = sequences[:,-1]"
   ]
  },
  {
   "cell_type": "code",
   "execution_count": 18,
   "id": "a4ab84ea",
   "metadata": {},
   "outputs": [
    {
     "name": "stdout",
     "output_type": "stream",
     "text": [
      "[ 269  371 1115]\n"
     ]
    }
   ],
   "source": [
    "print(y[:3]) # 레이블"
   ]
  },
  {
   "cell_type": "code",
   "execution_count": 19,
   "id": "e5d5c3ed",
   "metadata": {},
   "outputs": [],
   "source": [
    "y = to_categorical(y, num_classes=vocab_size)"
   ]
  },
  {
   "cell_type": "code",
   "execution_count": 20,
   "id": "101a580b",
   "metadata": {},
   "outputs": [],
   "source": [
    "from tensorflow.keras.models import Sequential\n",
    "from tensorflow.keras.layers import Embedding, Dense, LSTM"
   ]
  },
  {
   "cell_type": "code",
   "execution_count": null,
   "id": "0ba07348",
   "metadata": {},
   "outputs": [
    {
     "name": "stdout",
     "output_type": "stream",
     "text": [
      "Epoch 1/200\n",
      "244/244 - 4s - loss: 7.6517 - accuracy: 0.0305\n",
      "Epoch 2/200\n",
      "244/244 - 3s - loss: 7.1101 - accuracy: 0.0286\n",
      "Epoch 3/200\n",
      "244/244 - 3s - loss: 6.9741 - accuracy: 0.0346\n",
      "Epoch 4/200\n",
      "244/244 - 3s - loss: 6.8504 - accuracy: 0.0401\n",
      "Epoch 5/200\n",
      "244/244 - 3s - loss: 6.7036 - accuracy: 0.0434\n",
      "Epoch 6/200\n",
      "244/244 - 3s - loss: 6.5343 - accuracy: 0.0481\n",
      "Epoch 7/200\n",
      "244/244 - 3s - loss: 6.3444 - accuracy: 0.0520\n",
      "Epoch 8/200\n",
      "244/244 - 3s - loss: 6.1413 - accuracy: 0.0557\n",
      "Epoch 9/200\n",
      "244/244 - 3s - loss: 5.9397 - accuracy: 0.0592\n",
      "Epoch 10/200\n",
      "244/244 - 3s - loss: 5.7521 - accuracy: 0.0673\n",
      "Epoch 11/200\n",
      "244/244 - 3s - loss: 5.5705 - accuracy: 0.0698\n",
      "Epoch 12/200\n",
      "244/244 - 3s - loss: 5.4038 - accuracy: 0.0764\n",
      "Epoch 13/200\n",
      "244/244 - 3s - loss: 5.2428 - accuracy: 0.0810\n",
      "Epoch 14/200\n",
      "244/244 - 3s - loss: 5.0954 - accuracy: 0.0895\n",
      "Epoch 15/200\n",
      "244/244 - 3s - loss: 4.9546 - accuracy: 0.0965\n",
      "Epoch 16/200\n",
      "244/244 - 3s - loss: 4.8181 - accuracy: 0.1055\n",
      "Epoch 17/200\n",
      "244/244 - 3s - loss: 4.6885 - accuracy: 0.1193\n",
      "Epoch 18/200\n",
      "244/244 - 3s - loss: 4.5654 - accuracy: 0.1294\n",
      "Epoch 19/200\n",
      "244/244 - 3s - loss: 4.4432 - accuracy: 0.1462\n",
      "Epoch 20/200\n",
      "244/244 - 3s - loss: 4.3267 - accuracy: 0.1588\n",
      "Epoch 21/200\n",
      "244/244 - 3s - loss: 4.2136 - accuracy: 0.1742\n",
      "Epoch 22/200\n",
      "244/244 - 3s - loss: 4.1050 - accuracy: 0.1915\n",
      "Epoch 23/200\n",
      "244/244 - 3s - loss: 3.9976 - accuracy: 0.2093\n",
      "Epoch 24/200\n",
      "244/244 - 3s - loss: 3.8984 - accuracy: 0.2222\n",
      "Epoch 25/200\n",
      "244/244 - 3s - loss: 3.7971 - accuracy: 0.2457\n",
      "Epoch 26/200\n",
      "244/244 - 3s - loss: 3.6984 - accuracy: 0.2555\n",
      "Epoch 27/200\n",
      "244/244 - 3s - loss: 3.6066 - accuracy: 0.2771\n",
      "Epoch 28/200\n",
      "244/244 - 3s - loss: 3.5167 - accuracy: 0.2945\n",
      "Epoch 29/200\n",
      "244/244 - 3s - loss: 3.4266 - accuracy: 0.3099\n",
      "Epoch 30/200\n",
      "244/244 - 3s - loss: 3.3403 - accuracy: 0.3214\n",
      "Epoch 31/200\n",
      "244/244 - 3s - loss: 3.2600 - accuracy: 0.3404\n",
      "Epoch 32/200\n",
      "244/244 - 3s - loss: 3.1807 - accuracy: 0.3536\n",
      "Epoch 33/200\n",
      "244/244 - 3s - loss: 3.1051 - accuracy: 0.3687\n",
      "Epoch 34/200\n",
      "244/244 - 3s - loss: 3.0328 - accuracy: 0.3791\n",
      "Epoch 35/200\n",
      "244/244 - 3s - loss: 2.9603 - accuracy: 0.3938\n",
      "Epoch 36/200\n",
      "244/244 - 3s - loss: 2.8944 - accuracy: 0.4075\n",
      "Epoch 37/200\n",
      "244/244 - 3s - loss: 2.8277 - accuracy: 0.4241\n",
      "Epoch 38/200\n",
      "244/244 - 3s - loss: 2.7653 - accuracy: 0.4286\n",
      "Epoch 39/200\n",
      "244/244 - 3s - loss: 2.7034 - accuracy: 0.4447\n",
      "Epoch 40/200\n",
      "244/244 - 3s - loss: 2.6465 - accuracy: 0.4551\n",
      "Epoch 41/200\n",
      "244/244 - 3s - loss: 2.5895 - accuracy: 0.4662\n",
      "Epoch 42/200\n",
      "244/244 - 3s - loss: 2.5335 - accuracy: 0.4790\n",
      "Epoch 43/200\n",
      "244/244 - 3s - loss: 2.4819 - accuracy: 0.4861\n",
      "Epoch 44/200\n",
      "244/244 - 3s - loss: 2.4283 - accuracy: 0.5035\n",
      "Epoch 45/200\n",
      "244/244 - 3s - loss: 2.3777 - accuracy: 0.5106\n",
      "Epoch 46/200\n",
      "244/244 - 3s - loss: 2.3268 - accuracy: 0.5203\n",
      "Epoch 47/200\n",
      "244/244 - 3s - loss: 2.2798 - accuracy: 0.5295\n",
      "Epoch 48/200\n",
      "244/244 - 3s - loss: 2.2335 - accuracy: 0.5375\n",
      "Epoch 49/200\n",
      "244/244 - 3s - loss: 2.1872 - accuracy: 0.5459\n",
      "Epoch 50/200\n",
      "244/244 - 3s - loss: 2.1436 - accuracy: 0.5602\n",
      "Epoch 51/200\n",
      "244/244 - 3s - loss: 2.1006 - accuracy: 0.5647\n",
      "Epoch 52/200\n",
      "244/244 - 3s - loss: 2.0597 - accuracy: 0.5770\n",
      "Epoch 53/200\n",
      "244/244 - 3s - loss: 2.0179 - accuracy: 0.5834\n",
      "Epoch 54/200\n",
      "244/244 - 3s - loss: 1.9780 - accuracy: 0.5950\n",
      "Epoch 55/200\n",
      "244/244 - 3s - loss: 1.9379 - accuracy: 0.6058\n",
      "Epoch 56/200\n",
      "244/244 - 3s - loss: 1.8989 - accuracy: 0.6130\n",
      "Epoch 57/200\n",
      "244/244 - 3s - loss: 1.8597 - accuracy: 0.6210\n",
      "Epoch 58/200\n",
      "244/244 - 4s - loss: 1.8234 - accuracy: 0.6266\n",
      "Epoch 59/200\n",
      "244/244 - 4s - loss: 1.7850 - accuracy: 0.6333\n",
      "Epoch 60/200\n",
      "244/244 - 4s - loss: 1.7478 - accuracy: 0.6419\n",
      "Epoch 61/200\n",
      "244/244 - 3s - loss: 1.7133 - accuracy: 0.6518\n",
      "Epoch 62/200\n",
      "244/244 - 3s - loss: 1.6822 - accuracy: 0.6556\n",
      "Epoch 63/200\n",
      "244/244 - 3s - loss: 1.6450 - accuracy: 0.6645\n",
      "Epoch 64/200\n",
      "244/244 - 3s - loss: 1.6097 - accuracy: 0.6704\n",
      "Epoch 65/200\n",
      "244/244 - 3s - loss: 1.5760 - accuracy: 0.6820\n",
      "Epoch 66/200\n",
      "244/244 - 3s - loss: 1.5434 - accuracy: 0.6883\n",
      "Epoch 67/200\n",
      "244/244 - 3s - loss: 1.5110 - accuracy: 0.6945\n",
      "Epoch 68/200\n",
      "244/244 - 3s - loss: 1.4781 - accuracy: 0.7061\n",
      "Epoch 69/200\n",
      "244/244 - 3s - loss: 1.4505 - accuracy: 0.7109\n",
      "Epoch 70/200\n",
      "244/244 - 3s - loss: 1.4168 - accuracy: 0.7187\n",
      "Epoch 71/200\n",
      "244/244 - 3s - loss: 1.3882 - accuracy: 0.7200\n",
      "Epoch 72/200\n",
      "244/244 - 3s - loss: 1.3646 - accuracy: 0.7273\n",
      "Epoch 73/200\n",
      "244/244 - 3s - loss: 1.3351 - accuracy: 0.7337\n",
      "Epoch 74/200\n",
      "244/244 - 4s - loss: 1.3016 - accuracy: 0.7420\n",
      "Epoch 75/200\n",
      "244/244 - 3s - loss: 1.2740 - accuracy: 0.7491\n",
      "Epoch 76/200\n",
      "244/244 - 3s - loss: 1.2435 - accuracy: 0.7536\n",
      "Epoch 77/200\n",
      "244/244 - 3s - loss: 1.2179 - accuracy: 0.7589\n",
      "Epoch 78/200\n",
      "244/244 - 3s - loss: 1.1907 - accuracy: 0.7698\n",
      "Epoch 79/200\n",
      "244/244 - 3s - loss: 1.1642 - accuracy: 0.7702\n",
      "Epoch 80/200\n",
      "244/244 - 3s - loss: 1.1419 - accuracy: 0.7766\n",
      "Epoch 81/200\n",
      "244/244 - 3s - loss: 1.1147 - accuracy: 0.7811\n",
      "Epoch 82/200\n",
      "244/244 - 3s - loss: 1.0904 - accuracy: 0.7869\n",
      "Epoch 83/200\n",
      "244/244 - 3s - loss: 1.0661 - accuracy: 0.7911\n",
      "Epoch 84/200\n",
      "244/244 - 3s - loss: 1.0401 - accuracy: 0.7976\n",
      "Epoch 85/200\n",
      "244/244 - 3s - loss: 1.0169 - accuracy: 0.8010\n",
      "Epoch 86/200\n",
      "244/244 - 3s - loss: 0.9925 - accuracy: 0.8079\n",
      "Epoch 87/200\n",
      "244/244 - 3s - loss: 0.9715 - accuracy: 0.8099\n",
      "Epoch 88/200\n",
      "244/244 - 4s - loss: 0.9507 - accuracy: 0.8148\n",
      "Epoch 89/200\n",
      "244/244 - 3s - loss: 0.9318 - accuracy: 0.8211\n",
      "Epoch 90/200\n",
      "244/244 - 3s - loss: 0.9100 - accuracy: 0.8178\n",
      "Epoch 91/200\n",
      "244/244 - 3s - loss: 0.8899 - accuracy: 0.8252\n",
      "Epoch 92/200\n",
      "244/244 - 3s - loss: 0.8683 - accuracy: 0.8313\n",
      "Epoch 93/200\n"
     ]
    }
   ],
   "source": [
    "model = Sequential()\n",
    "model.add(Embedding(vocab_size, 10, input_length=max_len-1))\n",
    "# y데이터를 분리하였으므로 이제 X데이터의 길이는 기존 데이터의 길이 - 1\n",
    "model.add(LSTM(128))\n",
    "model.add(Dense(vocab_size, activation='softmax'))\n",
    "model.compile(loss='categorical_crossentropy', optimizer='adam', metrics=['accuracy'])\n",
    "model.fit(X, y, epochs=200, verbose=2)"
   ]
  },
  {
   "cell_type": "code",
   "execution_count": null,
   "id": "081a2d32",
   "metadata": {},
   "outputs": [],
   "source": [
    "def sentence_generation(model, t, current_word, n): # 모델, 토크나이저, 현재 단어, 반복할 횟수\n",
    "    init_word = current_word # 처음 들어온 단어도 마지막에 같이 출력하기위해 저장\n",
    "    sentence = ''\n",
    "    for _ in range(n): # n번 반복\n",
    "        encoded = t.texts_to_sequences([current_word])[0] # 현재 단어에 대한 정수 인코딩\n",
    "        encoded = pad_sequences([encoded], maxlen=23, padding='pre') # 데이터에 대한 패딩\n",
    "        result = model.predict_classes(encoded, verbose=0)\n",
    "    # 입력한 X(현재 단어)에 대해서 y를 예측하고 y(예측한 단어)를 result에 저장.\n",
    "        for word, index in t.word_index.items(): \n",
    "            if index == result: # 만약 예측한 단어와 인덱스와 동일한 단어가 있다면\n",
    "                break # 해당 단어가 예측 단어이므로 break\n",
    "        current_word = current_word + ' '  + word # 현재 단어 + ' ' + 예측 단어를 현재 단어로 변경\n",
    "        sentence = sentence + ' ' + word # 예측 단어를 문장에 저장\n",
    "    # for문이므로 이 행동을 다시 반복\n",
    "    sentence = init_word + sentence\n",
    "    return sentence"
   ]
  },
  {
   "cell_type": "code",
   "execution_count": null,
   "id": "dfcbdec0",
   "metadata": {},
   "outputs": [],
   "source": [
    "print(sentence_generation(model, t, 'i', 10))\n",
    "# 임의의 단어 'i'에 대해서 10개의 단어를 추가 생성"
   ]
  },
  {
   "cell_type": "code",
   "execution_count": null,
   "id": "f4e0afa0",
   "metadata": {},
   "outputs": [],
   "source": [
    "print(sentence_generation(model, t, 'how', 10))\n",
    "# 임의의 단어 'how'에 대해서 10개의 단어를 추가 생성"
   ]
  }
 ],
 "metadata": {
  "kernelspec": {
   "display_name": "Python 3",
   "language": "python",
   "name": "python3"
  },
  "language_info": {
   "codemirror_mode": {
    "name": "ipython",
    "version": 3
   },
   "file_extension": ".py",
   "mimetype": "text/x-python",
   "name": "python",
   "nbconvert_exporter": "python",
   "pygments_lexer": "ipython3",
   "version": "3.8.8"
  }
 },
 "nbformat": 4,
 "nbformat_minor": 5
}
