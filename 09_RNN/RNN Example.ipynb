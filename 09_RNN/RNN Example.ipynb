{
 "cells": [
  {
   "cell_type": "code",
   "execution_count": 1,
   "id": "4147dff1",
   "metadata": {},
   "outputs": [],
   "source": [
    "from tensorflow.keras.preprocessing.text import Tokenizer\n",
    "from tensorflow.keras.preprocessing.sequence import pad_sequences\n",
    "import numpy as np\n",
    "from tensorflow.keras.utils import to_categorical"
   ]
  },
  {
   "cell_type": "code",
   "execution_count": 2,
   "id": "7efa2761",
   "metadata": {},
   "outputs": [],
   "source": [
    "text=\"\"\"경마장에 있는 말이 뛰고 있다\\n\n",
    "그의 말이 법이다\\n\n",
    "가는 말이 고와야 오는 말이 곱다\\n\"\"\""
   ]
  },
  {
   "cell_type": "code",
   "execution_count": 3,
   "id": "5a235c7c",
   "metadata": {},
   "outputs": [
    {
     "name": "stdout",
     "output_type": "stream",
     "text": [
      "단어 집합의 크기 : 12\n"
     ]
    }
   ],
   "source": [
    "t = Tokenizer()\n",
    "t.fit_on_texts([text])\n",
    "vocab_size = len(t.word_index) + 1\n",
    "# 케라스 토크나이저의 정수 인코딩은 인덱스가 1부터 시작하지만,\n",
    "# 케라스 원-핫 인코딩에서 배열의 인덱스가 0부터 시작하기 때문에\n",
    "# 배열의 크기를 실제 단어 집합의 크기보다 +1로 생성해야하므로 미리 +1 선언 \n",
    "print('단어 집합의 크기 : %d' % vocab_size)"
   ]
  },
  {
   "cell_type": "code",
   "execution_count": 4,
   "id": "a9ad745b",
   "metadata": {},
   "outputs": [
    {
     "name": "stdout",
     "output_type": "stream",
     "text": [
      "{'말이': 1, '경마장에': 2, '있는': 3, '뛰고': 4, '있다': 5, '그의': 6, '법이다': 7, '가는': 8, '고와야': 9, '오는': 10, '곱다': 11}\n"
     ]
    }
   ],
   "source": [
    "print(t.word_index)"
   ]
  },
  {
   "cell_type": "code",
   "execution_count": 5,
   "id": "708a87a7",
   "metadata": {},
   "outputs": [
    {
     "name": "stdout",
     "output_type": "stream",
     "text": [
      "학습에 사용할 샘플의 개수: 11\n"
     ]
    }
   ],
   "source": [
    "sequences = list()\n",
    "for line in text.split('\\n'): # Wn을 기준으로 문장 토큰화\n",
    "    encoded = t.texts_to_sequences([line])[0]\n",
    "    for i in range(1, len(encoded)):\n",
    "        sequence = encoded[:i+1]\n",
    "        sequences.append(sequence)\n",
    "\n",
    "print('학습에 사용할 샘플의 개수: %d' % len(sequences))"
   ]
  },
  {
   "cell_type": "code",
   "execution_count": 6,
   "id": "6c1a22d5",
   "metadata": {},
   "outputs": [
    {
     "name": "stdout",
     "output_type": "stream",
     "text": [
      "[[2, 3], [2, 3, 1], [2, 3, 1, 4], [2, 3, 1, 4, 5], [6, 1], [6, 1, 7], [8, 1], [8, 1, 9], [8, 1, 9, 10], [8, 1, 9, 10, 1], [8, 1, 9, 10, 1, 11]]\n"
     ]
    }
   ],
   "source": [
    "print(sequences)"
   ]
  },
  {
   "cell_type": "code",
   "execution_count": 7,
   "id": "73a7d1fe",
   "metadata": {},
   "outputs": [
    {
     "data": {
      "text/plain": [
       "\"\\n['경마장에', '있는'], ['경마장에', '있는', '말이'], ['경마장에', '있는', '말이', '뛰고']\\n... 이런식의 샘플\\n\""
      ]
     },
     "execution_count": 7,
     "metadata": {},
     "output_type": "execute_result"
    }
   ],
   "source": [
    "'''\n",
    "['경마장에', '있는'], ['경마장에', '있는', '말이'], ['경마장에', '있는', '말이', '뛰고']\n",
    "... 이런식의 샘플\n",
    "'''"
   ]
  },
  {
   "cell_type": "code",
   "execution_count": 8,
   "id": "53b49b9d",
   "metadata": {},
   "outputs": [
    {
     "name": "stdout",
     "output_type": "stream",
     "text": [
      "샘플의 최대 길이 : 6\n"
     ]
    }
   ],
   "source": [
    "max_len=max(len(l) for l in sequences) # 모든 샘플에서 길이가 가장 긴 샘플의 길이 출력\n",
    "print('샘플의 최대 길이 : {}'.format(max_len))"
   ]
  },
  {
   "cell_type": "code",
   "execution_count": 9,
   "id": "1b1a309e",
   "metadata": {},
   "outputs": [],
   "source": [
    "sequences = pad_sequences(sequences, maxlen=max_len, padding='pre')"
   ]
  },
  {
   "cell_type": "code",
   "execution_count": 10,
   "id": "c81a9ca1",
   "metadata": {},
   "outputs": [
    {
     "name": "stdout",
     "output_type": "stream",
     "text": [
      "[[ 0  0  0  0  2  3]\n",
      " [ 0  0  0  2  3  1]\n",
      " [ 0  0  2  3  1  4]\n",
      " [ 0  2  3  1  4  5]\n",
      " [ 0  0  0  0  6  1]\n",
      " [ 0  0  0  6  1  7]\n",
      " [ 0  0  0  0  8  1]\n",
      " [ 0  0  0  8  1  9]\n",
      " [ 0  0  8  1  9 10]\n",
      " [ 0  8  1  9 10  1]\n",
      " [ 8  1  9 10  1 11]]\n"
     ]
    }
   ],
   "source": [
    "print(sequences)"
   ]
  },
  {
   "cell_type": "code",
   "execution_count": 11,
   "id": "33eec6e2",
   "metadata": {},
   "outputs": [],
   "source": [
    "sequences = np.array(sequences)\n",
    "X = sequences[:,:-1]\n",
    "y = sequences[:,-1]\n",
    "# 리스트의 마지막 값을 제외하고 저장한 것은 X\n",
    "# 리스트의 마지막 값만 저장한 것은 y. 이는 레이블에 해당됨."
   ]
  },
  {
   "cell_type": "code",
   "execution_count": 12,
   "id": "f9911f11",
   "metadata": {},
   "outputs": [
    {
     "name": "stdout",
     "output_type": "stream",
     "text": [
      "[[ 0  0  0  0  2]\n",
      " [ 0  0  0  2  3]\n",
      " [ 0  0  2  3  1]\n",
      " [ 0  2  3  1  4]\n",
      " [ 0  0  0  0  6]\n",
      " [ 0  0  0  6  1]\n",
      " [ 0  0  0  0  8]\n",
      " [ 0  0  0  8  1]\n",
      " [ 0  0  8  1  9]\n",
      " [ 0  8  1  9 10]\n",
      " [ 8  1  9 10  1]]\n"
     ]
    }
   ],
   "source": [
    "print(X)"
   ]
  },
  {
   "cell_type": "code",
   "execution_count": 13,
   "id": "497626d3",
   "metadata": {},
   "outputs": [
    {
     "name": "stdout",
     "output_type": "stream",
     "text": [
      "[ 3  1  4  5  1  7  1  9 10  1 11]\n"
     ]
    }
   ],
   "source": [
    "print(y) # 모든 샘플에 대한 레이블 출력"
   ]
  },
  {
   "cell_type": "code",
   "execution_count": 14,
   "id": "daa9bc28",
   "metadata": {},
   "outputs": [],
   "source": [
    "# 원-핫 인코딩\n",
    "y = to_categorical(y, num_classes=vocab_size)"
   ]
  },
  {
   "cell_type": "code",
   "execution_count": 15,
   "id": "a114f720",
   "metadata": {},
   "outputs": [
    {
     "name": "stdout",
     "output_type": "stream",
     "text": [
      "[[0. 0. 0. 1. 0. 0. 0. 0. 0. 0. 0. 0.]\n",
      " [0. 1. 0. 0. 0. 0. 0. 0. 0. 0. 0. 0.]\n",
      " [0. 0. 0. 0. 1. 0. 0. 0. 0. 0. 0. 0.]\n",
      " [0. 0. 0. 0. 0. 1. 0. 0. 0. 0. 0. 0.]\n",
      " [0. 1. 0. 0. 0. 0. 0. 0. 0. 0. 0. 0.]\n",
      " [0. 0. 0. 0. 0. 0. 0. 1. 0. 0. 0. 0.]\n",
      " [0. 1. 0. 0. 0. 0. 0. 0. 0. 0. 0. 0.]\n",
      " [0. 0. 0. 0. 0. 0. 0. 0. 0. 1. 0. 0.]\n",
      " [0. 0. 0. 0. 0. 0. 0. 0. 0. 0. 1. 0.]\n",
      " [0. 1. 0. 0. 0. 0. 0. 0. 0. 0. 0. 0.]\n",
      " [0. 0. 0. 0. 0. 0. 0. 0. 0. 0. 0. 1.]]\n"
     ]
    }
   ],
   "source": [
    "print(y)"
   ]
  },
  {
   "cell_type": "code",
   "execution_count": 16,
   "id": "566528bf",
   "metadata": {},
   "outputs": [],
   "source": [
    "from tensorflow.keras.models import Sequential\n",
    "from tensorflow.keras.layers import Embedding, Dense, SimpleRNN"
   ]
  },
  {
   "cell_type": "code",
   "execution_count": 17,
   "id": "68c7dcc6",
   "metadata": {},
   "outputs": [
    {
     "name": "stdout",
     "output_type": "stream",
     "text": [
      "Epoch 1/200\n",
      "1/1 - 1s - loss: 2.4851 - accuracy: 0.0000e+00\n",
      "Epoch 2/200\n",
      "1/1 - 0s - loss: 2.4735 - accuracy: 0.0000e+00\n",
      "Epoch 3/200\n",
      "1/1 - 0s - loss: 2.4619 - accuracy: 0.0909\n",
      "Epoch 4/200\n",
      "1/1 - 0s - loss: 2.4501 - accuracy: 0.1818\n",
      "Epoch 5/200\n",
      "1/1 - 0s - loss: 2.4382 - accuracy: 0.2727\n",
      "Epoch 6/200\n",
      "1/1 - 0s - loss: 2.4260 - accuracy: 0.2727\n",
      "Epoch 7/200\n",
      "1/1 - 0s - loss: 2.4135 - accuracy: 0.2727\n",
      "Epoch 8/200\n",
      "1/1 - 0s - loss: 2.4007 - accuracy: 0.2727\n",
      "Epoch 9/200\n",
      "1/1 - 0s - loss: 2.3875 - accuracy: 0.4545\n",
      "Epoch 10/200\n",
      "1/1 - 0s - loss: 2.3738 - accuracy: 0.4545\n",
      "Epoch 11/200\n",
      "1/1 - 0s - loss: 2.3596 - accuracy: 0.4545\n",
      "Epoch 12/200\n",
      "1/1 - 0s - loss: 2.3449 - accuracy: 0.4545\n",
      "Epoch 13/200\n",
      "1/1 - 0s - loss: 2.3294 - accuracy: 0.4545\n",
      "Epoch 14/200\n",
      "1/1 - 0s - loss: 2.3133 - accuracy: 0.4545\n",
      "Epoch 15/200\n",
      "1/1 - 0s - loss: 2.2964 - accuracy: 0.4545\n",
      "Epoch 16/200\n",
      "1/1 - 0s - loss: 2.2788 - accuracy: 0.4545\n",
      "Epoch 17/200\n",
      "1/1 - 0s - loss: 2.2603 - accuracy: 0.4545\n",
      "Epoch 18/200\n",
      "1/1 - 0s - loss: 2.2409 - accuracy: 0.4545\n",
      "Epoch 19/200\n",
      "1/1 - 0s - loss: 2.2207 - accuracy: 0.4545\n",
      "Epoch 20/200\n",
      "1/1 - 0s - loss: 2.1996 - accuracy: 0.4545\n",
      "Epoch 21/200\n",
      "1/1 - 0s - loss: 2.1776 - accuracy: 0.4545\n",
      "Epoch 22/200\n",
      "1/1 - 0s - loss: 2.1549 - accuracy: 0.4545\n",
      "Epoch 23/200\n",
      "1/1 - 0s - loss: 2.1314 - accuracy: 0.4545\n",
      "Epoch 24/200\n",
      "1/1 - 0s - loss: 2.1073 - accuracy: 0.4545\n",
      "Epoch 25/200\n",
      "1/1 - 0s - loss: 2.0826 - accuracy: 0.4545\n",
      "Epoch 26/200\n",
      "1/1 - 0s - loss: 2.0575 - accuracy: 0.4545\n",
      "Epoch 27/200\n",
      "1/1 - 0s - loss: 2.0323 - accuracy: 0.4545\n",
      "Epoch 28/200\n",
      "1/1 - 0s - loss: 2.0070 - accuracy: 0.3636\n",
      "Epoch 29/200\n",
      "1/1 - 0s - loss: 1.9819 - accuracy: 0.3636\n",
      "Epoch 30/200\n",
      "1/1 - 0s - loss: 1.9572 - accuracy: 0.3636\n",
      "Epoch 31/200\n",
      "1/1 - 0s - loss: 1.9332 - accuracy: 0.3636\n",
      "Epoch 32/200\n",
      "1/1 - 0s - loss: 1.9100 - accuracy: 0.3636\n",
      "Epoch 33/200\n",
      "1/1 - 0s - loss: 1.8879 - accuracy: 0.3636\n",
      "Epoch 34/200\n",
      "1/1 - 0s - loss: 1.8668 - accuracy: 0.3636\n",
      "Epoch 35/200\n",
      "1/1 - 0s - loss: 1.8468 - accuracy: 0.3636\n",
      "Epoch 36/200\n",
      "1/1 - 0s - loss: 1.8278 - accuracy: 0.3636\n",
      "Epoch 37/200\n",
      "1/1 - 0s - loss: 1.8098 - accuracy: 0.3636\n",
      "Epoch 38/200\n",
      "1/1 - 0s - loss: 1.7926 - accuracy: 0.3636\n",
      "Epoch 39/200\n",
      "1/1 - 0s - loss: 1.7759 - accuracy: 0.3636\n",
      "Epoch 40/200\n",
      "1/1 - 0s - loss: 1.7596 - accuracy: 0.3636\n",
      "Epoch 41/200\n",
      "1/1 - 0s - loss: 1.7433 - accuracy: 0.4545\n",
      "Epoch 42/200\n",
      "1/1 - 0s - loss: 1.7270 - accuracy: 0.4545\n",
      "Epoch 43/200\n",
      "1/1 - 0s - loss: 1.7105 - accuracy: 0.4545\n",
      "Epoch 44/200\n",
      "1/1 - 0s - loss: 1.6936 - accuracy: 0.4545\n",
      "Epoch 45/200\n",
      "1/1 - 0s - loss: 1.6762 - accuracy: 0.4545\n",
      "Epoch 46/200\n",
      "1/1 - 0s - loss: 1.6585 - accuracy: 0.4545\n",
      "Epoch 47/200\n",
      "1/1 - 0s - loss: 1.6402 - accuracy: 0.4545\n",
      "Epoch 48/200\n",
      "1/1 - 0s - loss: 1.6215 - accuracy: 0.4545\n",
      "Epoch 49/200\n",
      "1/1 - 0s - loss: 1.6024 - accuracy: 0.4545\n",
      "Epoch 50/200\n",
      "1/1 - 0s - loss: 1.5829 - accuracy: 0.4545\n",
      "Epoch 51/200\n",
      "1/1 - 0s - loss: 1.5630 - accuracy: 0.4545\n",
      "Epoch 52/200\n",
      "1/1 - 0s - loss: 1.5429 - accuracy: 0.4545\n",
      "Epoch 53/200\n",
      "1/1 - 0s - loss: 1.5225 - accuracy: 0.4545\n",
      "Epoch 54/200\n",
      "1/1 - 0s - loss: 1.5019 - accuracy: 0.4545\n",
      "Epoch 55/200\n",
      "1/1 - 0s - loss: 1.4813 - accuracy: 0.4545\n",
      "Epoch 56/200\n",
      "1/1 - 0s - loss: 1.4605 - accuracy: 0.4545\n",
      "Epoch 57/200\n",
      "1/1 - 0s - loss: 1.4398 - accuracy: 0.4545\n",
      "Epoch 58/200\n",
      "1/1 - 0s - loss: 1.4192 - accuracy: 0.4545\n",
      "Epoch 59/200\n",
      "1/1 - 0s - loss: 1.3986 - accuracy: 0.5455\n",
      "Epoch 60/200\n",
      "1/1 - 0s - loss: 1.3782 - accuracy: 0.6364\n",
      "Epoch 61/200\n",
      "1/1 - 0s - loss: 1.3580 - accuracy: 0.6364\n",
      "Epoch 62/200\n",
      "1/1 - 0s - loss: 1.3379 - accuracy: 0.6364\n",
      "Epoch 63/200\n",
      "1/1 - 0s - loss: 1.3180 - accuracy: 0.6364\n",
      "Epoch 64/200\n",
      "1/1 - 0s - loss: 1.2984 - accuracy: 0.6364\n",
      "Epoch 65/200\n",
      "1/1 - 0s - loss: 1.2790 - accuracy: 0.6364\n",
      "Epoch 66/200\n",
      "1/1 - 0s - loss: 1.2597 - accuracy: 0.6364\n",
      "Epoch 67/200\n",
      "1/1 - 0s - loss: 1.2408 - accuracy: 0.6364\n",
      "Epoch 68/200\n",
      "1/1 - 0s - loss: 1.2220 - accuracy: 0.6364\n",
      "Epoch 69/200\n",
      "1/1 - 0s - loss: 1.2035 - accuracy: 0.6364\n",
      "Epoch 70/200\n",
      "1/1 - 0s - loss: 1.1852 - accuracy: 0.6364\n",
      "Epoch 71/200\n",
      "1/1 - 0s - loss: 1.1672 - accuracy: 0.6364\n",
      "Epoch 72/200\n",
      "1/1 - 0s - loss: 1.1493 - accuracy: 0.6364\n",
      "Epoch 73/200\n",
      "1/1 - 0s - loss: 1.1317 - accuracy: 0.6364\n",
      "Epoch 74/200\n",
      "1/1 - 0s - loss: 1.1144 - accuracy: 0.6364\n",
      "Epoch 75/200\n",
      "1/1 - 0s - loss: 1.0973 - accuracy: 0.6364\n",
      "Epoch 76/200\n",
      "1/1 - 0s - loss: 1.0803 - accuracy: 0.6364\n",
      "Epoch 77/200\n",
      "1/1 - 0s - loss: 1.0637 - accuracy: 0.6364\n",
      "Epoch 78/200\n",
      "1/1 - 0s - loss: 1.0472 - accuracy: 0.6364\n",
      "Epoch 79/200\n",
      "1/1 - 0s - loss: 1.0310 - accuracy: 0.6364\n",
      "Epoch 80/200\n",
      "1/1 - 0s - loss: 1.0150 - accuracy: 0.6364\n",
      "Epoch 81/200\n",
      "1/1 - 0s - loss: 0.9992 - accuracy: 0.6364\n",
      "Epoch 82/200\n",
      "1/1 - 0s - loss: 0.9836 - accuracy: 0.6364\n",
      "Epoch 83/200\n",
      "1/1 - 0s - loss: 0.9683 - accuracy: 0.6364\n",
      "Epoch 84/200\n",
      "1/1 - 0s - loss: 0.9531 - accuracy: 0.6364\n",
      "Epoch 85/200\n",
      "1/1 - 0s - loss: 0.9381 - accuracy: 0.6364\n",
      "Epoch 86/200\n",
      "1/1 - 0s - loss: 0.9233 - accuracy: 0.6364\n",
      "Epoch 87/200\n",
      "1/1 - 0s - loss: 0.9087 - accuracy: 0.7273\n",
      "Epoch 88/200\n",
      "1/1 - 0s - loss: 0.8943 - accuracy: 0.7273\n",
      "Epoch 89/200\n",
      "1/1 - 0s - loss: 0.8800 - accuracy: 0.7273\n",
      "Epoch 90/200\n",
      "1/1 - 0s - loss: 0.8659 - accuracy: 0.7273\n",
      "Epoch 91/200\n",
      "1/1 - 0s - loss: 0.8520 - accuracy: 0.7273\n",
      "Epoch 92/200\n",
      "1/1 - 0s - loss: 0.8383 - accuracy: 0.7273\n",
      "Epoch 93/200\n",
      "1/1 - 0s - loss: 0.8247 - accuracy: 0.7273\n",
      "Epoch 94/200\n",
      "1/1 - 0s - loss: 0.8113 - accuracy: 0.7273\n",
      "Epoch 95/200\n",
      "1/1 - 0s - loss: 0.7981 - accuracy: 0.7273\n",
      "Epoch 96/200\n",
      "1/1 - 0s - loss: 0.7851 - accuracy: 0.7273\n",
      "Epoch 97/200\n",
      "1/1 - 0s - loss: 0.7722 - accuracy: 0.7273\n",
      "Epoch 98/200\n",
      "1/1 - 0s - loss: 0.7595 - accuracy: 0.7273\n",
      "Epoch 99/200\n",
      "1/1 - 0s - loss: 0.7469 - accuracy: 0.7273\n",
      "Epoch 100/200\n",
      "1/1 - 0s - loss: 0.7345 - accuracy: 0.7273\n",
      "Epoch 101/200\n",
      "1/1 - 0s - loss: 0.7222 - accuracy: 0.7273\n",
      "Epoch 102/200\n",
      "1/1 - 0s - loss: 0.7101 - accuracy: 0.7273\n",
      "Epoch 103/200\n",
      "1/1 - 0s - loss: 0.6981 - accuracy: 0.7273\n",
      "Epoch 104/200\n",
      "1/1 - 0s - loss: 0.6863 - accuracy: 0.7273\n",
      "Epoch 105/200\n",
      "1/1 - 0s - loss: 0.6746 - accuracy: 0.7273\n",
      "Epoch 106/200\n",
      "1/1 - 0s - loss: 0.6630 - accuracy: 0.7273\n",
      "Epoch 107/200\n",
      "1/1 - 0s - loss: 0.6516 - accuracy: 0.8182\n",
      "Epoch 108/200\n",
      "1/1 - 0s - loss: 0.6403 - accuracy: 0.8182\n",
      "Epoch 109/200\n",
      "1/1 - 0s - loss: 0.6291 - accuracy: 0.8182\n",
      "Epoch 110/200\n",
      "1/1 - 0s - loss: 0.6181 - accuracy: 0.8182\n",
      "Epoch 111/200\n",
      "1/1 - 0s - loss: 0.6072 - accuracy: 0.8182\n",
      "Epoch 112/200\n",
      "1/1 - 0s - loss: 0.5964 - accuracy: 0.8182\n",
      "Epoch 113/200\n",
      "1/1 - 0s - loss: 0.5857 - accuracy: 0.8182\n",
      "Epoch 114/200\n",
      "1/1 - 0s - loss: 0.5752 - accuracy: 0.8182\n",
      "Epoch 115/200\n",
      "1/1 - 0s - loss: 0.5648 - accuracy: 0.8182\n",
      "Epoch 116/200\n",
      "1/1 - 0s - loss: 0.5545 - accuracy: 0.9091\n",
      "Epoch 117/200\n",
      "1/1 - 0s - loss: 0.5443 - accuracy: 0.9091\n",
      "Epoch 118/200\n",
      "1/1 - 0s - loss: 0.5343 - accuracy: 0.9091\n",
      "Epoch 119/200\n",
      "1/1 - 0s - loss: 0.5244 - accuracy: 0.9091\n",
      "Epoch 120/200\n",
      "1/1 - 0s - loss: 0.5147 - accuracy: 0.9091\n",
      "Epoch 121/200\n",
      "1/1 - 0s - loss: 0.5051 - accuracy: 0.9091\n",
      "Epoch 122/200\n",
      "1/1 - 0s - loss: 0.4956 - accuracy: 0.9091\n",
      "Epoch 123/200\n",
      "1/1 - 0s - loss: 0.4863 - accuracy: 0.9091\n",
      "Epoch 124/200\n",
      "1/1 - 0s - loss: 0.4771 - accuracy: 0.9091\n",
      "Epoch 125/200\n",
      "1/1 - 0s - loss: 0.4680 - accuracy: 0.9091\n",
      "Epoch 126/200\n",
      "1/1 - 0s - loss: 0.4591 - accuracy: 0.9091\n",
      "Epoch 127/200\n",
      "1/1 - 0s - loss: 0.4503 - accuracy: 0.9091\n",
      "Epoch 128/200\n",
      "1/1 - 0s - loss: 0.4417 - accuracy: 0.9091\n",
      "Epoch 129/200\n",
      "1/1 - 0s - loss: 0.4332 - accuracy: 0.9091\n",
      "Epoch 130/200\n",
      "1/1 - 0s - loss: 0.4249 - accuracy: 0.9091\n",
      "Epoch 131/200\n",
      "1/1 - 0s - loss: 0.4167 - accuracy: 0.9091\n",
      "Epoch 132/200\n",
      "1/1 - 0s - loss: 0.4086 - accuracy: 0.9091\n",
      "Epoch 133/200\n",
      "1/1 - 0s - loss: 0.4007 - accuracy: 0.9091\n",
      "Epoch 134/200\n",
      "1/1 - 0s - loss: 0.3930 - accuracy: 0.9091\n",
      "Epoch 135/200\n",
      "1/1 - 0s - loss: 0.3854 - accuracy: 0.9091\n",
      "Epoch 136/200\n",
      "1/1 - 0s - loss: 0.3779 - accuracy: 0.9091\n",
      "Epoch 137/200\n",
      "1/1 - 0s - loss: 0.3706 - accuracy: 0.9091\n",
      "Epoch 138/200\n",
      "1/1 - 0s - loss: 0.3634 - accuracy: 0.9091\n",
      "Epoch 139/200\n",
      "1/1 - 0s - loss: 0.3564 - accuracy: 0.9091\n",
      "Epoch 140/200\n",
      "1/1 - 0s - loss: 0.3495 - accuracy: 0.9091\n",
      "Epoch 141/200\n",
      "1/1 - 0s - loss: 0.3427 - accuracy: 0.9091\n",
      "Epoch 142/200\n",
      "1/1 - 0s - loss: 0.3361 - accuracy: 0.9091\n",
      "Epoch 143/200\n",
      "1/1 - 0s - loss: 0.3297 - accuracy: 0.9091\n",
      "Epoch 144/200\n",
      "1/1 - 0s - loss: 0.3233 - accuracy: 0.9091\n",
      "Epoch 145/200\n",
      "1/1 - 0s - loss: 0.3171 - accuracy: 0.9091\n",
      "Epoch 146/200\n",
      "1/1 - 0s - loss: 0.3110 - accuracy: 0.9091\n"
     ]
    },
    {
     "name": "stdout",
     "output_type": "stream",
     "text": [
      "Epoch 147/200\n",
      "1/1 - 0s - loss: 0.3051 - accuracy: 0.9091\n",
      "Epoch 148/200\n",
      "1/1 - 0s - loss: 0.2993 - accuracy: 0.9091\n",
      "Epoch 149/200\n",
      "1/1 - 0s - loss: 0.2936 - accuracy: 0.9091\n",
      "Epoch 150/200\n",
      "1/1 - 0s - loss: 0.2880 - accuracy: 0.9091\n",
      "Epoch 151/200\n",
      "1/1 - 0s - loss: 0.2826 - accuracy: 0.9091\n",
      "Epoch 152/200\n",
      "1/1 - 0s - loss: 0.2773 - accuracy: 0.9091\n",
      "Epoch 153/200\n",
      "1/1 - 0s - loss: 0.2721 - accuracy: 0.9091\n",
      "Epoch 154/200\n",
      "1/1 - 0s - loss: 0.2670 - accuracy: 0.9091\n",
      "Epoch 155/200\n",
      "1/1 - 0s - loss: 0.2620 - accuracy: 0.9091\n",
      "Epoch 156/200\n",
      "1/1 - 0s - loss: 0.2572 - accuracy: 1.0000\n",
      "Epoch 157/200\n",
      "1/1 - 0s - loss: 0.2524 - accuracy: 1.0000\n",
      "Epoch 158/200\n",
      "1/1 - 0s - loss: 0.2478 - accuracy: 1.0000\n",
      "Epoch 159/200\n",
      "1/1 - 0s - loss: 0.2433 - accuracy: 1.0000\n",
      "Epoch 160/200\n",
      "1/1 - 0s - loss: 0.2388 - accuracy: 1.0000\n",
      "Epoch 161/200\n",
      "1/1 - 0s - loss: 0.2345 - accuracy: 1.0000\n",
      "Epoch 162/200\n",
      "1/1 - 0s - loss: 0.2303 - accuracy: 1.0000\n",
      "Epoch 163/200\n",
      "1/1 - 0s - loss: 0.2261 - accuracy: 1.0000\n",
      "Epoch 164/200\n",
      "1/1 - 0s - loss: 0.2221 - accuracy: 1.0000\n",
      "Epoch 165/200\n",
      "1/1 - 0s - loss: 0.2181 - accuracy: 1.0000\n",
      "Epoch 166/200\n",
      "1/1 - 0s - loss: 0.2143 - accuracy: 1.0000\n",
      "Epoch 167/200\n",
      "1/1 - 0s - loss: 0.2105 - accuracy: 1.0000\n",
      "Epoch 168/200\n",
      "1/1 - 0s - loss: 0.2068 - accuracy: 1.0000\n",
      "Epoch 169/200\n",
      "1/1 - 0s - loss: 0.2031 - accuracy: 1.0000\n",
      "Epoch 170/200\n",
      "1/1 - 0s - loss: 0.1996 - accuracy: 1.0000\n",
      "Epoch 171/200\n",
      "1/1 - 0s - loss: 0.1961 - accuracy: 1.0000\n",
      "Epoch 172/200\n",
      "1/1 - 0s - loss: 0.1928 - accuracy: 1.0000\n",
      "Epoch 173/200\n",
      "1/1 - 0s - loss: 0.1894 - accuracy: 1.0000\n",
      "Epoch 174/200\n",
      "1/1 - 0s - loss: 0.1862 - accuracy: 1.0000\n",
      "Epoch 175/200\n",
      "1/1 - 0s - loss: 0.1830 - accuracy: 1.0000\n",
      "Epoch 176/200\n",
      "1/1 - 0s - loss: 0.1799 - accuracy: 1.0000\n",
      "Epoch 177/200\n",
      "1/1 - 0s - loss: 0.1769 - accuracy: 1.0000\n",
      "Epoch 178/200\n",
      "1/1 - 0s - loss: 0.1739 - accuracy: 1.0000\n",
      "Epoch 179/200\n",
      "1/1 - 0s - loss: 0.1710 - accuracy: 1.0000\n",
      "Epoch 180/200\n",
      "1/1 - 0s - loss: 0.1681 - accuracy: 1.0000\n",
      "Epoch 181/200\n",
      "1/1 - 0s - loss: 0.1653 - accuracy: 1.0000\n",
      "Epoch 182/200\n",
      "1/1 - 0s - loss: 0.1626 - accuracy: 1.0000\n",
      "Epoch 183/200\n",
      "1/1 - 0s - loss: 0.1599 - accuracy: 1.0000\n",
      "Epoch 184/200\n",
      "1/1 - 0s - loss: 0.1573 - accuracy: 1.0000\n",
      "Epoch 185/200\n",
      "1/1 - 0s - loss: 0.1547 - accuracy: 1.0000\n",
      "Epoch 186/200\n",
      "1/1 - 0s - loss: 0.1521 - accuracy: 1.0000\n",
      "Epoch 187/200\n",
      "1/1 - 0s - loss: 0.1497 - accuracy: 1.0000\n",
      "Epoch 188/200\n",
      "1/1 - 0s - loss: 0.1472 - accuracy: 1.0000\n",
      "Epoch 189/200\n",
      "1/1 - 0s - loss: 0.1449 - accuracy: 1.0000\n",
      "Epoch 190/200\n",
      "1/1 - 0s - loss: 0.1425 - accuracy: 1.0000\n",
      "Epoch 191/200\n",
      "1/1 - 0s - loss: 0.1403 - accuracy: 1.0000\n",
      "Epoch 192/200\n",
      "1/1 - 0s - loss: 0.1380 - accuracy: 1.0000\n",
      "Epoch 193/200\n",
      "1/1 - 0s - loss: 0.1358 - accuracy: 1.0000\n",
      "Epoch 194/200\n",
      "1/1 - 0s - loss: 0.1337 - accuracy: 1.0000\n",
      "Epoch 195/200\n",
      "1/1 - 0s - loss: 0.1315 - accuracy: 1.0000\n",
      "Epoch 196/200\n",
      "1/1 - 0s - loss: 0.1295 - accuracy: 1.0000\n",
      "Epoch 197/200\n",
      "1/1 - 0s - loss: 0.1274 - accuracy: 1.0000\n",
      "Epoch 198/200\n",
      "1/1 - 0s - loss: 0.1254 - accuracy: 1.0000\n",
      "Epoch 199/200\n",
      "1/1 - 0s - loss: 0.1235 - accuracy: 1.0000\n",
      "Epoch 200/200\n",
      "1/1 - 0s - loss: 0.1216 - accuracy: 1.0000\n"
     ]
    },
    {
     "data": {
      "text/plain": [
       "<tensorflow.python.keras.callbacks.History at 0x7f9d91e7e070>"
      ]
     },
     "execution_count": 17,
     "metadata": {},
     "output_type": "execute_result"
    }
   ],
   "source": [
    "model = Sequential()\n",
    "model.add(Embedding(vocab_size, 10, input_length=max_len-1)) # 레이블을 분리하였으므로 이제 X의 길이는 5\n",
    "model.add(SimpleRNN(32))\n",
    "model.add(Dense(vocab_size, activation='softmax'))\n",
    "model.compile(loss='categorical_crossentropy', optimizer='adam', metrics=['accuracy'])\n",
    "model.fit(X, y, epochs=200, verbose=2)"
   ]
  },
  {
   "cell_type": "code",
   "execution_count": 18,
   "id": "6dbc9464",
   "metadata": {},
   "outputs": [],
   "source": [
    "def sentence_generation(model, t, current_word, n): # 모델, 토크나이저, 현재 단어, 반복할 횟수\n",
    "    init_word = current_word # 처음 들어온 단어도 마지막에 같이 출력하기위해 저장\n",
    "    sentence = ''\n",
    "    for _ in range(n): # n번 반복\n",
    "        encoded = t.texts_to_sequences([current_word])[0] # 현재 단어에 대한 정수 인코딩\n",
    "        encoded = pad_sequences([encoded], maxlen=5, padding='pre') # 데이터에 대한 패딩\n",
    "        result = model.predict_classes(encoded, verbose=0)\n",
    "    # 입력한 X(현재 단어)에 대해서 Y를 예측하고 Y(예측한 단어)를 result에 저장.\n",
    "        for word, index in t.word_index.items(): \n",
    "            if index == result: # 만약 예측한 단어와 인덱스와 동일한 단어가 있다면\n",
    "                break # 해당 단어가 예측 단어이므로 break\n",
    "        current_word = current_word + ' '  + word # 현재 단어 + ' ' + 예측 단어를 현재 단어로 변경\n",
    "        sentence = sentence + ' ' + word # 예측 단어를 문장에 저장\n",
    "    # for문이므로 이 행동을 다시 반복\n",
    "    sentence = init_word + sentence\n",
    "    return sentence"
   ]
  },
  {
   "cell_type": "code",
   "execution_count": 19,
   "id": "e8dc4fbb",
   "metadata": {},
   "outputs": [
    {
     "name": "stderr",
     "output_type": "stream",
     "text": [
      "/Users/formegusto/opt/anaconda3/lib/python3.8/site-packages/tensorflow/python/keras/engine/sequential.py:455: UserWarning: `model.predict_classes()` is deprecated and will be removed after 2021-01-01. Please use instead:* `np.argmax(model.predict(x), axis=-1)`,   if your model does multi-class classification   (e.g. if it uses a `softmax` last-layer activation).* `(model.predict(x) > 0.5).astype(\"int32\")`,   if your model does binary classification   (e.g. if it uses a `sigmoid` last-layer activation).\n",
      "  warnings.warn('`model.predict_classes()` is deprecated and '\n"
     ]
    },
    {
     "name": "stdout",
     "output_type": "stream",
     "text": [
      "경마장에 있는 말이 뛰고 있다\n"
     ]
    }
   ],
   "source": [
    "print(sentence_generation(model, t, '경마장에', 4))\n",
    "# '경마장에' 라는 단어 뒤에는 총 4개의 단어가 있으므로 4번 예측"
   ]
  },
  {
   "cell_type": "code",
   "execution_count": 20,
   "id": "7de0c240",
   "metadata": {},
   "outputs": [
    {
     "name": "stdout",
     "output_type": "stream",
     "text": [
      "그의 말이 법이다\n"
     ]
    }
   ],
   "source": [
    "print(sentence_generation(model, t, '그의', 2)) # 2번 예측"
   ]
  },
  {
   "cell_type": "code",
   "execution_count": 21,
   "id": "45234f3e",
   "metadata": {},
   "outputs": [
    {
     "name": "stdout",
     "output_type": "stream",
     "text": [
      "가는 말이 고와야 오는 말이 곱다\n"
     ]
    }
   ],
   "source": [
    "print(sentence_generation(model, t, '가는', 5)) # 5번 예측"
   ]
  }
 ],
 "metadata": {
  "kernelspec": {
   "display_name": "Python 3",
   "language": "python",
   "name": "python3"
  },
  "language_info": {
   "codemirror_mode": {
    "name": "ipython",
    "version": 3
   },
   "file_extension": ".py",
   "mimetype": "text/x-python",
   "name": "python",
   "nbconvert_exporter": "python",
   "pygments_lexer": "ipython3",
   "version": "3.8.8"
  }
 },
 "nbformat": 4,
 "nbformat_minor": 5
}
