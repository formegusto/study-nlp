{
 "cells": [
  {
   "cell_type": "code",
   "execution_count": 1,
   "id": "bd95e09f",
   "metadata": {},
   "outputs": [],
   "source": [
    "import numpy as np # 넘파이 사용\n",
    "import matplotlib.pyplot as plt # 맷플롯립 사용"
   ]
  },
  {
   "cell_type": "code",
   "execution_count": 2,
   "id": "d12c7874",
   "metadata": {},
   "outputs": [],
   "source": [
    "class NeuralNetwork(object):\n",
    "    def __init__(self):\n",
    "        self.inputLayerSize = 2\n",
    "        self.outputLayerSize = 1\n",
    "        self.hiddenLayerSize = 3\n",
    "        \n",
    "        # Weights (Parameters)\n",
    "        self.W1 = np.random.randn(self.inputLayerSize,\\\n",
    "                                 self.hiddenLayerSize)\n",
    "        self.W2 = np.random.randn(self.hiddenLayerSize, \\\n",
    "                                 self.outputLayerSize)\n",
    "    \n",
    "    def forward(self, X):\n",
    "        #Propagate inputs through network\n",
    "        self.z2 = np.dot(X, self.W1)\n",
    "        self.a2 = self.sigmoid(self.z2)\n",
    "        self.z3 = np.dot(self.a2, self.W2)\n",
    "        yHat = self.sigmoid(self.z3)\n",
    "        return yHat\n",
    "    \n",
    "    def sigmoid(self,z):\n",
    "        return 1/(1+np.exp(-z))"
   ]
  },
  {
   "cell_type": "code",
   "execution_count": 68,
   "id": "ccdde440",
   "metadata": {},
   "outputs": [
    {
     "name": "stdout",
     "output_type": "stream",
     "text": [
      "[[0.39400201]\n",
      " [0.43267421]\n",
      " [0.49136853]]\n",
      "[75 82 93]\n"
     ]
    },
    {
     "data": {
      "text/plain": [
       "10400.732354051801"
      ]
     },
     "execution_count": 68,
     "metadata": {},
     "output_type": "execute_result"
    }
   ],
   "source": [
    "X = np.array([[3,5],[5,1],[10,2]])\n",
    "Y = np.array([75,82,93])\n",
    "\n",
    "NN = NeuralNetwork()\n",
    "yHat = NN.forward(X)\n",
    "print(yHat)\n",
    "print(Y)\n",
    "\n",
    "0.5 * sum((Y - yHat[0]) ** 2)"
   ]
  },
  {
   "cell_type": "code",
   "execution_count": 60,
   "id": "f965c956",
   "metadata": {},
   "outputs": [],
   "source": [
    "# import time\n",
    "\n",
    "weightToTry = np.linspace(-5,5,1000)\n",
    "costs = np.zeros((1000,1000))\n",
    "\n",
    "# startTime = time.clock()\n",
    "# 대충 차원이 크면 클수록 오래걸린다는 말\n",
    "# 이거 맞음 혼란스러워하지마삼\n",
    "for i in range(1000):\n",
    "    for j in range(1000):\n",
    "        NN.W1[0,0] = weightToTry[i]\n",
    "        NN.W1[0,1] = weightToTry[j]\n",
    "        yHat = NN.forward(X)\n",
    "        costs[i] = sum(0.5 * ((Y[0] - yHat[0]) ** 2))"
   ]
  },
  {
   "cell_type": "code",
   "execution_count": 61,
   "id": "78847124",
   "metadata": {},
   "outputs": [
    {
     "data": {
      "text/plain": [
       "Text(0.5, 0, 'Weight')"
      ]
     },
     "execution_count": 61,
     "metadata": {},
     "output_type": "execute_result"
    },
    {
     "data": {
      "image/png": "[encoded data removed]",
      "text/plain": [
       "<Figure size 432x288 with 1 Axes>"
      ]
     },
     "metadata": {
      "needs_background": "light"
     },
     "output_type": "display_data"
    }
   ],
   "source": [
    "plt.plot(weightToTry, costs)\n",
    "plt.grid(1)\n",
    "plt.ylabel('Cost')\n",
    "plt.xlabel('Weight')"
   ]
  },
  {
   "cell_type": "code",
   "execution_count": null,
   "id": "7b0c5f0d",
   "metadata": {},
   "outputs": [],
   "source": []
  }
 ],
 "metadata": {
  "kernelspec": {
   "display_name": "Python 3",
   "language": "python",
   "name": "python3"
  },
  "language_info": {
   "codemirror_mode": {
    "name": "ipython",
    "version": 3
   },
   "file_extension": ".py",
   "mimetype": "text/x-python",
   "name": "python",
   "nbconvert_exporter": "python",
   "pygments_lexer": "ipython3",
   "version": "3.8.8"
  }
 },
 "nbformat": 4,
 "nbformat_minor": 5
}
